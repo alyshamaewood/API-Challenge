{
 "cells": [
  {
   "cell_type": "markdown",
   "metadata": {},
   "source": [
    "# WeatherPy\n",
    "----\n",
    "\n",
    "#### Note\n",
    "* Instructions have been included for each segment. You do not have to follow them exactly, but they are included to help you think through the steps."
   ]
  },
  {
   "cell_type": "code",
   "execution_count": 1,
   "metadata": {},
   "outputs": [
    {
     "name": "stdout",
     "output_type": "stream",
     "text": [
      "Requirement already satisfied: citipy in c:\\users\\alysh\\anaconda3\\lib\\site-packages (0.0.5)\n",
      "Requirement already satisfied: kdtree>=0.12 in c:\\users\\alysh\\anaconda3\\lib\\site-packages (from citipy) (0.16)\n",
      "Note: you may need to restart the kernel to use updated packages.\n"
     ]
    }
   ],
   "source": [
    "pip install citipy"
   ]
  },
  {
   "cell_type": "code",
   "execution_count": 2,
   "metadata": {
    "scrolled": true
   },
   "outputs": [
    {
     "name": "stdout",
     "output_type": "stream",
     "text": [
      "70b17dee0232f4d7a21df681d272d59b\n"
     ]
    }
   ],
   "source": [
    "# Dependencies and Setup\n",
    "import matplotlib.pyplot as plt\n",
    "import pandas as pd\n",
    "import numpy as np\n",
    "import requests\n",
    "import time\n",
    "import json\n",
    "\n",
    "from scipy.stats import linregress\n",
    "\n",
    "# Import API key\n",
    "from api_keys import weather_api_key\n",
    "print(weather_api_key)\n",
    "\n",
    "# Incorporated citipy to determine city based on latitude and longitude\n",
    "from citipy import citipy\n",
    "\n",
    "# Output File (CSV)\n",
    "output_data_file = \"output_data/cities.csv\"\n",
    "\n",
    "# Range of latitudes and longitudes\n",
    "lat_range = (-90, 90)\n",
    "lng_range = (-180, 180)"
   ]
  },
  {
   "cell_type": "markdown",
   "metadata": {},
   "source": [
    "## Generate Cities List"
   ]
  },
  {
   "cell_type": "code",
   "execution_count": 3,
   "metadata": {},
   "outputs": [
    {
     "data": {
      "text/plain": [
       "83"
      ]
     },
     "execution_count": 3,
     "metadata": {},
     "output_type": "execute_result"
    }
   ],
   "source": [
    "# List for holding lat_lngs and cities\n",
    "lat_lngs = []\n",
    "cities = []\n",
    "\n",
    "# Create a set of random lat and lng combinations\n",
    "lats = np.random.uniform(lat_range[0], lat_range[1], size=1500)\n",
    "lngs = np.random.uniform(lng_range[0], lng_range[1], size=1500)\n",
    "lat_lngs = zip(lats, lngs)\n",
    "\n",
    "# Identify nearest city for each lat, lng combination\n",
    "for lat_lng in lat_lngs:\n",
    "    city = citipy.nearest_city(lat_lng[0], lat_lng[1]).city_name\n",
    "    \n",
    "    # If the city is unique, then add it to a our cities list\n",
    "    if city not in cities:\n",
    "        cities.append(city)\n",
    "\n",
    "# Print the city count to confirm sufficient count\n",
    "len(cities)"
   ]
  },
  {
   "cell_type": "markdown",
   "metadata": {},
   "source": [
    "### Perform API Calls\n",
    "* Perform a weather check on each city using a series of successive API calls.\n",
    "* Include a print log of each city as it'sbeing processed (with the city number and city name).\n"
   ]
  },
  {
   "cell_type": "code",
   "execution_count": 4,
   "metadata": {},
   "outputs": [
    {
     "name": "stdout",
     "output_type": "stream",
     "text": [
      "City not found. Skipping...\n",
      "City not found. Skipping...\n",
      "City not found. Skipping...\n",
      "City not found. Skipping...\n",
      "City not found. Skipping...\n",
      "City not found. Skipping...\n",
      "City not found. Skipping...\n",
      "City not found. Skipping...\n",
      "City not found. Skipping...\n",
      "City not found. Skipping...\n",
      "Beginning Data Retrival\n",
      "-------------------------------------\n",
      "[{'City': 'Ponta do Sol', 'Country': 'PT', 'Date': 1604176941, 'Lat': 32.67, 'Lng': -17.1, 'Max Temp': 72, 'Humid': 68, 'Cloud': 20, 'Wind Speed': 8.05}, {'City': 'Cherskiy', 'Country': 'RU', 'Date': 1604176694, 'Lat': 68.75, 'Lng': 161.3, 'Max Temp': 9.63, 'Humid': 89, 'Cloud': 97, 'Wind Speed': 3.85}, {'City': 'Phonhong', 'Country': 'LA', 'Date': 1604177123, 'Lat': 18.5, 'Lng': 102.42, 'Max Temp': 71.83, 'Humid': 91, 'Cloud': 1, 'Wind Speed': 1.74}, {'City': 'Arraial do Cabo', 'Country': 'BR', 'Date': 1604176945, 'Lat': -22.97, 'Lng': -42.03, 'Max Temp': 71.6, 'Humid': 88, 'Cloud': 75, 'Wind Speed': 10.29}, {'City': 'Farnes', 'Country': 'NO', 'Date': 1604177123, 'Lat': 61.32, 'Lng': 7.8, 'Max Temp': 35.73, 'Humid': 84, 'Cloud': 89, 'Wind Speed': 8.97}, {'City': 'Hobart', 'Country': 'AU', 'Date': 1604176928, 'Lat': -42.88, 'Lng': 147.33, 'Max Temp': 55, 'Humid': 76, 'Cloud': 40, 'Wind Speed': 4.7}, {'City': 'Fort Nelson', 'Country': 'CA', 'Date': 1604177123, 'Lat': 58.81, 'Lng': -122.7, 'Max Temp': 21.2, 'Humid': 92, 'Cloud': 75, 'Wind Speed': 6.93}, {'City': 'Linqiong', 'Country': 'CN', 'Date': 1604177124, 'Lat': 30.42, 'Lng': 103.46, 'Max Temp': 64, 'Humid': 93, 'Cloud': 99, 'Wind Speed': 2.01}, {'City': 'Bluff', 'Country': 'NZ', 'Date': 1604176941, 'Lat': -46.6, 'Lng': 168.33, 'Max Temp': 57, 'Humid': 66, 'Cloud': 96, 'Wind Speed': 7}, {'City': 'Albany', 'Country': 'US', 'Date': 1604176673, 'Lat': 42.6, 'Lng': -73.97, 'Max Temp': 44.01, 'Humid': 73, 'Cloud': 0, 'Wind Speed': 7.47}, {'City': 'Umluj', 'Country': 'SA', 'Date': 1604177124, 'Lat': 25.02, 'Lng': 37.27, 'Max Temp': 78.69, 'Humid': 69, 'Cloud': 0, 'Wind Speed': 2.42}, {'City': 'Hilo', 'Country': 'US', 'Date': 1604176679, 'Lat': 19.73, 'Lng': -155.09, 'Max Temp': 86, 'Humid': 58, 'Cloud': 40, 'Wind Speed': 9.17}, {'City': 'Ribeira Grande', 'Country': 'PT', 'Date': 1604176946, 'Lat': 38.52, 'Lng': -28.7, 'Max Temp': 69.8, 'Humid': 94, 'Cloud': 75, 'Wind Speed': 20.8}, {'City': 'Rikitea', 'Country': 'PF', 'Date': 1604176946, 'Lat': -23.12, 'Lng': -134.97, 'Max Temp': 75.47, 'Humid': 68, 'Cloud': 0, 'Wind Speed': 6.04}, {'City': 'Smithers', 'Country': 'CA', 'Date': 1604177124, 'Lat': 54.78, 'Lng': -127.17, 'Max Temp': 37.4, 'Humid': 79, 'Cloud': 90, 'Wind Speed': 4.7}, {'City': 'Faanui', 'Country': 'PF', 'Date': 1604177125, 'Lat': -16.48, 'Lng': -151.75, 'Max Temp': 79.23, 'Humid': 73, 'Cloud': 1, 'Wind Speed': 19.48}, {'City': 'Tabuk', 'Country': 'PH', 'Date': 1604177125, 'Lat': 17.42, 'Lng': 121.44, 'Max Temp': 69.87, 'Humid': 82, 'Cloud': 100, 'Wind Speed': 6.62}, {'City': 'Oussouye', 'Country': 'SN', 'Date': 1604177125, 'Lat': 12.48, 'Lng': -16.55, 'Max Temp': 80.6, 'Humid': 88, 'Cloud': 0, 'Wind Speed': 4.05}, {'City': 'Nishihara', 'Country': 'JP', 'Date': 1604177125, 'Lat': 26.18, 'Lng': 127.76, 'Max Temp': 75.2, 'Humid': 60, 'Cloud': 40, 'Wind Speed': 12.75}, {'City': 'Cabo San Lucas', 'Country': 'MX', 'Date': 1604176954, 'Lat': 22.89, 'Lng': -109.91, 'Max Temp': 86, 'Humid': 61, 'Cloud': 20, 'Wind Speed': 12.75}, {'City': 'Tual', 'Country': 'ID', 'Date': 1604177125, 'Lat': -5.67, 'Lng': 132.75, 'Max Temp': 83.21, 'Humid': 77, 'Cloud': 100, 'Wind Speed': 13.89}, {'City': 'Örnsköldsvik', 'Country': 'SE', 'Date': 1604177125, 'Lat': 63.29, 'Lng': 18.72, 'Max Temp': 41, 'Humid': 100, 'Cloud': 96, 'Wind Speed': 2.24}, {'City': 'Codrington', 'Country': 'AU', 'Date': 1604177125, 'Lat': -38.27, 'Lng': 141.97, 'Max Temp': 50.13, 'Humid': 89, 'Cloud': 18, 'Wind Speed': 2.53}, {'City': 'Kapaa', 'Country': 'US', 'Date': 1604176937, 'Lat': 22.08, 'Lng': -159.32, 'Max Temp': 82.99, 'Humid': 65, 'Cloud': 1, 'Wind Speed': 8.05}, {'City': 'Airai', 'Country': 'TL', 'Date': 1604177126, 'Lat': -8.93, 'Lng': 125.41, 'Max Temp': 59.72, 'Humid': 66, 'Cloud': 27, 'Wind Speed': 2.42}, {'City': 'Ushuaia', 'Country': 'AR', 'Date': 1604176637, 'Lat': -54.8, 'Lng': -68.3, 'Max Temp': 55.4, 'Humid': 58, 'Cloud': 90, 'Wind Speed': 9.17}, {'City': 'Punta Arenas', 'Country': 'CL', 'Date': 1604176939, 'Lat': -53.15, 'Lng': -70.92, 'Max Temp': 59, 'Humid': 58, 'Cloud': 75, 'Wind Speed': 19.46}, {'City': 'Jiexiu', 'Country': 'CN', 'Date': 1604177126, 'Lat': 37.02, 'Lng': 111.91, 'Max Temp': 45.81, 'Humid': 49, 'Cloud': 22, 'Wind Speed': 4.27}, {'City': 'Los Llanos de Aridane', 'Country': 'ES', 'Date': 1604176746, 'Lat': 28.66, 'Lng': -17.92, 'Max Temp': 77, 'Humid': 33, 'Cloud': 0, 'Wind Speed': 9.17}, {'City': 'Santa Cruz de la Sierra', 'Country': 'BO', 'Date': 1604176984, 'Lat': -17.8, 'Lng': -63.17, 'Max Temp': 89.6, 'Humid': 25, 'Cloud': 0, 'Wind Speed': 13.87}, {'City': 'Soria', 'Country': 'ES', 'Date': 1604177126, 'Lat': 41.67, 'Lng': -2.67, 'Max Temp': 52, 'Humid': 78, 'Cloud': 36, 'Wind Speed': 5.99}, {'City': 'Mataura', 'Country': 'NZ', 'Date': 1604176937, 'Lat': -46.19, 'Lng': 168.86, 'Max Temp': 57, 'Humid': 66, 'Cloud': 20, 'Wind Speed': 7}, {'City': 'New Norfolk', 'Country': 'AU', 'Date': 1604176939, 'Lat': -42.78, 'Lng': 147.06, 'Max Temp': 53.01, 'Humid': 70, 'Cloud': 25, 'Wind Speed': 1.81}, {'City': 'Agüimes', 'Country': 'ES', 'Date': 1604177127, 'Lat': 27.91, 'Lng': -15.45, 'Max Temp': 78.8, 'Humid': 24, 'Cloud': 0, 'Wind Speed': 10.29}, {'City': 'George Town', 'Country': 'MY', 'Date': 1604176977, 'Lat': 5.41, 'Lng': 100.34, 'Max Temp': 75.2, 'Humid': 94, 'Cloud': 20, 'Wind Speed': 4.7}, {'City': 'Saint Paul Harbor', 'Country': 'US', 'Date': 1604176947, 'Lat': 57.79, 'Lng': -152.41, 'Max Temp': 35.6, 'Humid': 47, 'Cloud': 1, 'Wind Speed': 10.29}, {'City': 'Wajir', 'Country': 'KE', 'Date': 1604177127, 'Lat': 1.75, 'Lng': 40.06, 'Max Temp': 80.58, 'Humid': 65, 'Cloud': 28, 'Wind Speed': 17.69}, {'City': 'Krasnozavodsk', 'Country': 'RU', 'Date': 1604177127, 'Lat': 56.45, 'Lng': 38.22, 'Max Temp': 40.21, 'Humid': 95, 'Cloud': 72, 'Wind Speed': 5.82}, {'City': 'Cidreira', 'Country': 'BR', 'Date': 1604176948, 'Lat': -30.18, 'Lng': -50.21, 'Max Temp': 65.1, 'Humid': 68, 'Cloud': 60, 'Wind Speed': 9.71}, {'City': 'Lubango', 'Country': 'AO', 'Date': 1604177128, 'Lat': -14.92, 'Lng': 13.49, 'Max Temp': 63.5, 'Humid': 84, 'Cloud': 91, 'Wind Speed': 4.38}, {'City': 'Güira de Melena', 'Country': 'CU', 'Date': 1604177128, 'Lat': 22.79, 'Lng': -82.51, 'Max Temp': 86, 'Humid': 70, 'Cloud': 40, 'Wind Speed': 12.75}, {'City': 'Ottumwa', 'Country': 'US', 'Date': 1604177128, 'Lat': 41.02, 'Lng': -92.41, 'Max Temp': 68, 'Humid': 37, 'Cloud': 1, 'Wind Speed': 21.92}, {'City': 'Nizwá', 'Country': 'OM', 'Date': 1604177128, 'Lat': 22.93, 'Lng': 57.53, 'Max Temp': 62.74, 'Humid': 33, 'Cloud': 0, 'Wind Speed': 1.88}, {'City': 'Juneau', 'Country': 'US', 'Date': 1604177128, 'Lat': 58.3, 'Lng': -134.42, 'Max Temp': 45, 'Humid': 87, 'Cloud': 90, 'Wind Speed': 32.21}, {'City': 'Puerto Ayora', 'Country': 'EC', 'Date': 1604176936, 'Lat': -0.74, 'Lng': -90.35, 'Max Temp': 77, 'Humid': 73, 'Cloud': 75, 'Wind Speed': 23.04}, {'City': 'Kendari', 'Country': 'ID', 'Date': 1604177128, 'Lat': -3.94, 'Lng': 122.5, 'Max Temp': 74.75, 'Humid': 91, 'Cloud': 100, 'Wind Speed': 3.31}, {'City': 'Jamestown', 'Country': 'US', 'Date': 1604176940, 'Lat': 42.1, 'Lng': -79.24, 'Max Temp': 45, 'Humid': 60, 'Cloud': 1, 'Wind Speed': 11.41}, {'City': 'Dikson', 'Country': 'RU', 'Date': 1604176943, 'Lat': 73.51, 'Lng': 80.55, 'Max Temp': 17.62, 'Humid': 97, 'Cloud': 100, 'Wind Speed': 11.18}, {'City': 'Paamiut', 'Country': 'GL', 'Date': 1604177129, 'Lat': 61.99, 'Lng': -49.67, 'Max Temp': 27.7, 'Humid': 89, 'Cloud': 73, 'Wind Speed': 10.56}, {'City': 'Ende', 'Country': 'ID', 'Date': 1604177129, 'Lat': -8.84, 'Lng': 121.66, 'Max Temp': 77.38, 'Humid': 67, 'Cloud': 81, 'Wind Speed': 3.96}, {'City': 'Sola', 'Country': 'VU', 'Date': 1604177129, 'Lat': -13.88, 'Lng': 167.55, 'Max Temp': 81.45, 'Humid': 80, 'Cloud': 52, 'Wind Speed': 20.11}, {'City': 'San Rafael del Sur', 'Country': 'NI', 'Date': 1604177129, 'Lat': 11.85, 'Lng': -86.44, 'Max Temp': 91.4, 'Humid': 66, 'Cloud': 20, 'Wind Speed': 4.7}, {'City': 'Aykhal', 'Country': 'RU', 'Date': 1604177129, 'Lat': 66, 'Lng': 111.5, 'Max Temp': -5.55, 'Humid': 86, 'Cloud': 0, 'Wind Speed': 8.34}, {'City': 'Ternate', 'Country': 'ID', 'Date': 1604177129, 'Lat': 0.8, 'Lng': 127.4, 'Max Temp': 81.75, 'Humid': 77, 'Cloud': 65, 'Wind Speed': 8.84}, {'City': 'Kuandian', 'Country': 'CN', 'Date': 1604177130, 'Lat': 40.73, 'Lng': 124.78, 'Max Temp': 41.45, 'Humid': 92, 'Cloud': 12, 'Wind Speed': 2.95}, {'City': 'Busselton', 'Country': 'AU', 'Date': 1604176673, 'Lat': -33.65, 'Lng': 115.33, 'Max Temp': 60.01, 'Humid': 78, 'Cloud': 100, 'Wind Speed': 4.07}, {'City': 'Cape Town', 'Country': 'ZA', 'Date': 1604176674, 'Lat': -33.93, 'Lng': 18.42, 'Max Temp': 61, 'Humid': 59, 'Cloud': 0, 'Wind Speed': 14.99}, {'City': 'Barrow', 'Country': 'US', 'Date': 1604176942, 'Lat': 71.29, 'Lng': -156.79, 'Max Temp': 24.8, 'Humid': 68, 'Cloud': 75, 'Wind Speed': 10.29}, {'City': 'Hasaki', 'Country': 'JP', 'Date': 1604176945, 'Lat': 35.73, 'Lng': 140.83, 'Max Temp': 42.8, 'Humid': 93, 'Cloud': 40, 'Wind Speed': 2.24}, {'City': 'Nikolskoye', 'Country': 'RU', 'Date': 1604176937, 'Lat': 59.7, 'Lng': 30.79, 'Max Temp': 36, 'Humid': 86, 'Cloud': 34, 'Wind Speed': 2.24}, {'City': 'Qaanaaq', 'Country': 'GL', 'Date': 1604176698, 'Lat': 77.48, 'Lng': -69.36, 'Max Temp': 8.53, 'Humid': 83, 'Cloud': 83, 'Wind Speed': 6.02}, {'City': 'Konstantinovka', 'Country': 'RU', 'Date': 1604177130, 'Lat': 49.62, 'Lng': 127.98, 'Max Temp': 37.9, 'Humid': 86, 'Cloud': 100, 'Wind Speed': 12.08}, {'City': 'Tiksi', 'Country': 'RU', 'Date': 1604176952, 'Lat': 71.69, 'Lng': 128.87, 'Max Temp': 2.97, 'Humid': 93, 'Cloud': 98, 'Wind Speed': 5.14}, {'City': \"Severo-Kuril'sk\", 'Country': 'RU', 'Date': 1604177131, 'Lat': 50.68, 'Lng': 156.12, 'Max Temp': 42.51, 'Humid': 75, 'Cloud': 88, 'Wind Speed': 18.84}, {'City': 'Avarua', 'Country': 'CK', 'Date': 1604176952, 'Lat': -21.21, 'Lng': -159.78, 'Max Temp': 75.2, 'Humid': 83, 'Cloud': 98, 'Wind Speed': 11.41}, {'City': 'São Filipe', 'Country': 'CV', 'Date': 1604177131, 'Lat': 14.9, 'Lng': -24.5, 'Max Temp': 80.19, 'Humid': 65, 'Cloud': 76, 'Wind Speed': 11.99}, {'City': 'Novikovo', 'Country': 'RU', 'Date': 1604177131, 'Lat': 51.15, 'Lng': 37.89, 'Max Temp': 53.73, 'Humid': 92, 'Cloud': 100, 'Wind Speed': 14.99}, {'City': 'San Cristobal', 'Country': 'VE', 'Date': 1604177131, 'Lat': 7.77, 'Lng': -72.22, 'Max Temp': 84.2, 'Humid': 66, 'Cloud': 40, 'Wind Speed': 8.05}, {'City': 'Vila Velha', 'Country': 'BR', 'Date': 1604176674, 'Lat': -20.33, 'Lng': -40.29, 'Max Temp': 71.6, 'Humid': 94, 'Cloud': 90, 'Wind Speed': 8.05}, {'City': 'Manta', 'Country': 'EC', 'Date': 1604177132, 'Lat': -0.95, 'Lng': -80.73, 'Max Temp': 77, 'Humid': 78, 'Cloud': 75, 'Wind Speed': 11.41}, {'City': 'Hermanus', 'Country': 'ZA', 'Date': 1604176937, 'Lat': -34.42, 'Lng': 19.23, 'Max Temp': 57, 'Humid': 77, 'Cloud': 0, 'Wind Speed': 7}, {'City': 'Mayo', 'Country': 'US', 'Date': 1604177132, 'Lat': 38.89, 'Lng': -76.51, 'Max Temp': 48.99, 'Humid': 61, 'Cloud': 90, 'Wind Speed': 4.7}, {'City': 'Pascagoula', 'Country': 'US', 'Date': 1604177132, 'Lat': 30.37, 'Lng': -88.56, 'Max Temp': 75.2, 'Humid': 50, 'Cloud': 20, 'Wind Speed': 8.05}]\n",
      "-------------------------------------\n",
      "Data Retrieval Complete\n",
      "-------------------------------------\n"
     ]
    }
   ],
   "source": [
    "url = \"http://api.openweathermap.org/data/2.5/weather?units=Imperial&APPID=\" + weather_api_key\n",
    "\n",
    "# Loop through the list of cities and perform a request for data on each\n",
    "citiesdata = []\n",
    "\n",
    "for city in cities:\n",
    "#     print(city)\n",
    "    query_url = url + \"&q=\" + city\n",
    "#     print(query_url)\n",
    "    try:\n",
    "        weatherdata = requests.get(query_url).json()\n",
    "#         print(weatherdata)\n",
    "        name = weatherdata[\"name\"]\n",
    "        country = weatherdata['sys'][\"country\"]\n",
    "        date = weatherdata[\"dt\"]\n",
    "        lat = weatherdata['coord']['lat']\n",
    "        lng = weatherdata['coord']['lon']\n",
    "        temp = weatherdata['main']['temp_max']\n",
    "        humid = weatherdata['main']['humidity']\n",
    "        cloud = weatherdata['clouds']['all']\n",
    "        windSpeed = weatherdata['wind']['speed'] \n",
    "        citydata = {\n",
    "            'City': name,\n",
    "            'Country': country,\n",
    "            'Date': date,\n",
    "            'Lat': lat,\n",
    "            'Lng': lng,\n",
    "            'Max Temp': temp,\n",
    "            'Humid': humid,\n",
    "            'Cloud': cloud,\n",
    "            'Wind Speed': windSpeed                      \n",
    "        }\n",
    "        \n",
    "        citiesdata.append(citydata)\n",
    "    except KeyError:\n",
    "        print(f'City not found. Skipping...')\n",
    "    \n",
    "print(\"Beginning Data Retrival\")\n",
    "print(\"-------------------------------------\")\n",
    "print(citiesdata)\n",
    "print(\"-------------------------------------\")\n",
    "print(\"Data Retrieval Complete\")\n",
    "print(\"-------------------------------------\")"
   ]
  },
  {
   "cell_type": "code",
   "execution_count": null,
   "metadata": {
    "scrolled": true
   },
   "outputs": [],
   "source": []
  },
  {
   "cell_type": "markdown",
   "metadata": {},
   "source": [
    "### Convert Raw Data to DataFrame\n",
    "* Export the city data into a .csv.\n",
    "* Display the DataFrame"
   ]
  },
  {
   "cell_type": "code",
   "execution_count": 6,
   "metadata": {},
   "outputs": [
    {
     "data": {
      "text/html": [
       "<div>\n",
       "<style scoped>\n",
       "    .dataframe tbody tr th:only-of-type {\n",
       "        vertical-align: middle;\n",
       "    }\n",
       "\n",
       "    .dataframe tbody tr th {\n",
       "        vertical-align: top;\n",
       "    }\n",
       "\n",
       "    .dataframe thead th {\n",
       "        text-align: right;\n",
       "    }\n",
       "</style>\n",
       "<table border=\"1\" class=\"dataframe\">\n",
       "  <thead>\n",
       "    <tr style=\"text-align: right;\">\n",
       "      <th></th>\n",
       "      <th>City</th>\n",
       "      <th>Country</th>\n",
       "      <th>Date</th>\n",
       "      <th>Lat</th>\n",
       "      <th>Lng</th>\n",
       "      <th>Max Temp</th>\n",
       "      <th>Humid</th>\n",
       "      <th>Cloud</th>\n",
       "      <th>Wind Speed</th>\n",
       "    </tr>\n",
       "  </thead>\n",
       "  <tbody>\n",
       "    <tr>\n",
       "      <th>0</th>\n",
       "      <td>Ponta do Sol</td>\n",
       "      <td>PT</td>\n",
       "      <td>1604176941</td>\n",
       "      <td>32.67</td>\n",
       "      <td>-17.10</td>\n",
       "      <td>72.00</td>\n",
       "      <td>68</td>\n",
       "      <td>20</td>\n",
       "      <td>8.05</td>\n",
       "    </tr>\n",
       "    <tr>\n",
       "      <th>1</th>\n",
       "      <td>Cherskiy</td>\n",
       "      <td>RU</td>\n",
       "      <td>1604176694</td>\n",
       "      <td>68.75</td>\n",
       "      <td>161.30</td>\n",
       "      <td>9.63</td>\n",
       "      <td>89</td>\n",
       "      <td>97</td>\n",
       "      <td>3.85</td>\n",
       "    </tr>\n",
       "    <tr>\n",
       "      <th>2</th>\n",
       "      <td>Phonhong</td>\n",
       "      <td>LA</td>\n",
       "      <td>1604177123</td>\n",
       "      <td>18.50</td>\n",
       "      <td>102.42</td>\n",
       "      <td>71.83</td>\n",
       "      <td>91</td>\n",
       "      <td>1</td>\n",
       "      <td>1.74</td>\n",
       "    </tr>\n",
       "    <tr>\n",
       "      <th>3</th>\n",
       "      <td>Arraial do Cabo</td>\n",
       "      <td>BR</td>\n",
       "      <td>1604176945</td>\n",
       "      <td>-22.97</td>\n",
       "      <td>-42.03</td>\n",
       "      <td>71.60</td>\n",
       "      <td>88</td>\n",
       "      <td>75</td>\n",
       "      <td>10.29</td>\n",
       "    </tr>\n",
       "    <tr>\n",
       "      <th>4</th>\n",
       "      <td>Farnes</td>\n",
       "      <td>NO</td>\n",
       "      <td>1604177123</td>\n",
       "      <td>61.32</td>\n",
       "      <td>7.80</td>\n",
       "      <td>35.73</td>\n",
       "      <td>84</td>\n",
       "      <td>89</td>\n",
       "      <td>8.97</td>\n",
       "    </tr>\n",
       "    <tr>\n",
       "      <th>...</th>\n",
       "      <td>...</td>\n",
       "      <td>...</td>\n",
       "      <td>...</td>\n",
       "      <td>...</td>\n",
       "      <td>...</td>\n",
       "      <td>...</td>\n",
       "      <td>...</td>\n",
       "      <td>...</td>\n",
       "      <td>...</td>\n",
       "    </tr>\n",
       "    <tr>\n",
       "      <th>68</th>\n",
       "      <td>Vila Velha</td>\n",
       "      <td>BR</td>\n",
       "      <td>1604176674</td>\n",
       "      <td>-20.33</td>\n",
       "      <td>-40.29</td>\n",
       "      <td>71.60</td>\n",
       "      <td>94</td>\n",
       "      <td>90</td>\n",
       "      <td>8.05</td>\n",
       "    </tr>\n",
       "    <tr>\n",
       "      <th>69</th>\n",
       "      <td>Manta</td>\n",
       "      <td>EC</td>\n",
       "      <td>1604177132</td>\n",
       "      <td>-0.95</td>\n",
       "      <td>-80.73</td>\n",
       "      <td>77.00</td>\n",
       "      <td>78</td>\n",
       "      <td>75</td>\n",
       "      <td>11.41</td>\n",
       "    </tr>\n",
       "    <tr>\n",
       "      <th>70</th>\n",
       "      <td>Hermanus</td>\n",
       "      <td>ZA</td>\n",
       "      <td>1604176937</td>\n",
       "      <td>-34.42</td>\n",
       "      <td>19.23</td>\n",
       "      <td>57.00</td>\n",
       "      <td>77</td>\n",
       "      <td>0</td>\n",
       "      <td>7.00</td>\n",
       "    </tr>\n",
       "    <tr>\n",
       "      <th>71</th>\n",
       "      <td>Mayo</td>\n",
       "      <td>US</td>\n",
       "      <td>1604177132</td>\n",
       "      <td>38.89</td>\n",
       "      <td>-76.51</td>\n",
       "      <td>48.99</td>\n",
       "      <td>61</td>\n",
       "      <td>90</td>\n",
       "      <td>4.70</td>\n",
       "    </tr>\n",
       "    <tr>\n",
       "      <th>72</th>\n",
       "      <td>Pascagoula</td>\n",
       "      <td>US</td>\n",
       "      <td>1604177132</td>\n",
       "      <td>30.37</td>\n",
       "      <td>-88.56</td>\n",
       "      <td>75.20</td>\n",
       "      <td>50</td>\n",
       "      <td>20</td>\n",
       "      <td>8.05</td>\n",
       "    </tr>\n",
       "  </tbody>\n",
       "</table>\n",
       "<p>73 rows × 9 columns</p>\n",
       "</div>"
      ],
      "text/plain": [
       "               City Country        Date    Lat     Lng  Max Temp  Humid  \\\n",
       "0      Ponta do Sol      PT  1604176941  32.67  -17.10     72.00     68   \n",
       "1          Cherskiy      RU  1604176694  68.75  161.30      9.63     89   \n",
       "2          Phonhong      LA  1604177123  18.50  102.42     71.83     91   \n",
       "3   Arraial do Cabo      BR  1604176945 -22.97  -42.03     71.60     88   \n",
       "4            Farnes      NO  1604177123  61.32    7.80     35.73     84   \n",
       "..              ...     ...         ...    ...     ...       ...    ...   \n",
       "68       Vila Velha      BR  1604176674 -20.33  -40.29     71.60     94   \n",
       "69            Manta      EC  1604177132  -0.95  -80.73     77.00     78   \n",
       "70         Hermanus      ZA  1604176937 -34.42   19.23     57.00     77   \n",
       "71             Mayo      US  1604177132  38.89  -76.51     48.99     61   \n",
       "72       Pascagoula      US  1604177132  30.37  -88.56     75.20     50   \n",
       "\n",
       "    Cloud  Wind Speed  \n",
       "0      20        8.05  \n",
       "1      97        3.85  \n",
       "2       1        1.74  \n",
       "3      75       10.29  \n",
       "4      89        8.97  \n",
       "..    ...         ...  \n",
       "68     90        8.05  \n",
       "69     75       11.41  \n",
       "70      0        7.00  \n",
       "71     90        4.70  \n",
       "72     20        8.05  \n",
       "\n",
       "[73 rows x 9 columns]"
      ]
     },
     "execution_count": 6,
     "metadata": {},
     "output_type": "execute_result"
    }
   ],
   "source": [
    "weatherDF = pd.DataFrame(citiesdata)\n",
    "weatherDF.to_csv(\"../output_data/cities.csv\")\n",
    "weatherDF"
   ]
  },
  {
   "cell_type": "code",
   "execution_count": null,
   "metadata": {},
   "outputs": [],
   "source": []
  },
  {
   "cell_type": "code",
   "execution_count": 7,
   "metadata": {},
   "outputs": [
    {
     "data": {
      "text/html": [
       "<div>\n",
       "<style scoped>\n",
       "    .dataframe tbody tr th:only-of-type {\n",
       "        vertical-align: middle;\n",
       "    }\n",
       "\n",
       "    .dataframe tbody tr th {\n",
       "        vertical-align: top;\n",
       "    }\n",
       "\n",
       "    .dataframe thead th {\n",
       "        text-align: right;\n",
       "    }\n",
       "</style>\n",
       "<table border=\"1\" class=\"dataframe\">\n",
       "  <thead>\n",
       "    <tr style=\"text-align: right;\">\n",
       "      <th></th>\n",
       "      <th>Date</th>\n",
       "      <th>Lat</th>\n",
       "      <th>Lng</th>\n",
       "      <th>Max Temp</th>\n",
       "      <th>Humid</th>\n",
       "      <th>Cloud</th>\n",
       "      <th>Wind Speed</th>\n",
       "    </tr>\n",
       "  </thead>\n",
       "  <tbody>\n",
       "    <tr>\n",
       "      <th>count</th>\n",
       "      <td>7.300000e+01</td>\n",
       "      <td>73.000000</td>\n",
       "      <td>73.000000</td>\n",
       "      <td>73.000000</td>\n",
       "      <td>73.000000</td>\n",
       "      <td>73.000000</td>\n",
       "      <td>73.000000</td>\n",
       "    </tr>\n",
       "    <tr>\n",
       "      <th>mean</th>\n",
       "      <td>1.604177e+09</td>\n",
       "      <td>16.942192</td>\n",
       "      <td>10.147123</td>\n",
       "      <td>58.855342</td>\n",
       "      <td>73.356164</td>\n",
       "      <td>50.095890</td>\n",
       "      <td>9.058356</td>\n",
       "    </tr>\n",
       "    <tr>\n",
       "      <th>std</th>\n",
       "      <td>1.501375e+02</td>\n",
       "      <td>36.435182</td>\n",
       "      <td>104.122194</td>\n",
       "      <td>22.441744</td>\n",
       "      <td>17.394419</td>\n",
       "      <td>38.240164</td>\n",
       "      <td>6.038052</td>\n",
       "    </tr>\n",
       "    <tr>\n",
       "      <th>min</th>\n",
       "      <td>1.604177e+09</td>\n",
       "      <td>-54.800000</td>\n",
       "      <td>-159.780000</td>\n",
       "      <td>-5.550000</td>\n",
       "      <td>24.000000</td>\n",
       "      <td>0.000000</td>\n",
       "      <td>1.740000</td>\n",
       "    </tr>\n",
       "    <tr>\n",
       "      <th>25%</th>\n",
       "      <td>1.604177e+09</td>\n",
       "      <td>-13.880000</td>\n",
       "      <td>-76.510000</td>\n",
       "      <td>44.010000</td>\n",
       "      <td>65.000000</td>\n",
       "      <td>18.000000</td>\n",
       "      <td>4.700000</td>\n",
       "    </tr>\n",
       "    <tr>\n",
       "      <th>50%</th>\n",
       "      <td>1.604177e+09</td>\n",
       "      <td>22.790000</td>\n",
       "      <td>7.800000</td>\n",
       "      <td>62.740000</td>\n",
       "      <td>76.000000</td>\n",
       "      <td>40.000000</td>\n",
       "      <td>8.050000</td>\n",
       "    </tr>\n",
       "    <tr>\n",
       "      <th>75%</th>\n",
       "      <td>1.604177e+09</td>\n",
       "      <td>42.600000</td>\n",
       "      <td>121.440000</td>\n",
       "      <td>77.000000</td>\n",
       "      <td>88.000000</td>\n",
       "      <td>90.000000</td>\n",
       "      <td>11.410000</td>\n",
       "    </tr>\n",
       "    <tr>\n",
       "      <th>max</th>\n",
       "      <td>1.604177e+09</td>\n",
       "      <td>77.480000</td>\n",
       "      <td>168.860000</td>\n",
       "      <td>91.400000</td>\n",
       "      <td>100.000000</td>\n",
       "      <td>100.000000</td>\n",
       "      <td>32.210000</td>\n",
       "    </tr>\n",
       "  </tbody>\n",
       "</table>\n",
       "</div>"
      ],
      "text/plain": [
       "               Date        Lat         Lng   Max Temp       Humid       Cloud  \\\n",
       "count  7.300000e+01  73.000000   73.000000  73.000000   73.000000   73.000000   \n",
       "mean   1.604177e+09  16.942192   10.147123  58.855342   73.356164   50.095890   \n",
       "std    1.501375e+02  36.435182  104.122194  22.441744   17.394419   38.240164   \n",
       "min    1.604177e+09 -54.800000 -159.780000  -5.550000   24.000000    0.000000   \n",
       "25%    1.604177e+09 -13.880000  -76.510000  44.010000   65.000000   18.000000   \n",
       "50%    1.604177e+09  22.790000    7.800000  62.740000   76.000000   40.000000   \n",
       "75%    1.604177e+09  42.600000  121.440000  77.000000   88.000000   90.000000   \n",
       "max    1.604177e+09  77.480000  168.860000  91.400000  100.000000  100.000000   \n",
       "\n",
       "       Wind Speed  \n",
       "count   73.000000  \n",
       "mean     9.058356  \n",
       "std      6.038052  \n",
       "min      1.740000  \n",
       "25%      4.700000  \n",
       "50%      8.050000  \n",
       "75%     11.410000  \n",
       "max     32.210000  "
      ]
     },
     "execution_count": 7,
     "metadata": {},
     "output_type": "execute_result"
    }
   ],
   "source": [
    "weatherDF.describe()"
   ]
  },
  {
   "cell_type": "code",
   "execution_count": null,
   "metadata": {},
   "outputs": [],
   "source": []
  },
  {
   "cell_type": "markdown",
   "metadata": {},
   "source": [
    "## Inspect the data and remove the cities where the humidity > 100%.\n",
    "----\n",
    "Skip this step if there are no cities that have humidity > 100%. "
   ]
  },
  {
   "cell_type": "code",
   "execution_count": null,
   "metadata": {},
   "outputs": [],
   "source": []
  },
  {
   "cell_type": "code",
   "execution_count": null,
   "metadata": {},
   "outputs": [],
   "source": []
  },
  {
   "cell_type": "code",
   "execution_count": 8,
   "metadata": {},
   "outputs": [
    {
     "data": {
      "text/plain": [
       "Int64Index([], dtype='int64')"
      ]
     },
     "execution_count": 8,
     "metadata": {},
     "output_type": "execute_result"
    }
   ],
   "source": [
    "#  Get the indices of cities that have humidity over 100%.\n",
    "dirtyData = weatherDF[weatherDF[\"Humid\"]> 100].index\n",
    "dirtyData"
   ]
  },
  {
   "cell_type": "code",
   "execution_count": 9,
   "metadata": {},
   "outputs": [
    {
     "data": {
      "text/html": [
       "<div>\n",
       "<style scoped>\n",
       "    .dataframe tbody tr th:only-of-type {\n",
       "        vertical-align: middle;\n",
       "    }\n",
       "\n",
       "    .dataframe tbody tr th {\n",
       "        vertical-align: top;\n",
       "    }\n",
       "\n",
       "    .dataframe thead th {\n",
       "        text-align: right;\n",
       "    }\n",
       "</style>\n",
       "<table border=\"1\" class=\"dataframe\">\n",
       "  <thead>\n",
       "    <tr style=\"text-align: right;\">\n",
       "      <th></th>\n",
       "      <th>City</th>\n",
       "      <th>Country</th>\n",
       "      <th>Date</th>\n",
       "      <th>Lat</th>\n",
       "      <th>Lng</th>\n",
       "      <th>Max Temp</th>\n",
       "      <th>Humid</th>\n",
       "      <th>Cloud</th>\n",
       "      <th>Wind Speed</th>\n",
       "    </tr>\n",
       "  </thead>\n",
       "  <tbody>\n",
       "    <tr>\n",
       "      <th>0</th>\n",
       "      <td>Ponta do Sol</td>\n",
       "      <td>PT</td>\n",
       "      <td>1604176941</td>\n",
       "      <td>32.67</td>\n",
       "      <td>-17.10</td>\n",
       "      <td>72.00</td>\n",
       "      <td>68</td>\n",
       "      <td>20</td>\n",
       "      <td>8.05</td>\n",
       "    </tr>\n",
       "    <tr>\n",
       "      <th>1</th>\n",
       "      <td>Cherskiy</td>\n",
       "      <td>RU</td>\n",
       "      <td>1604176694</td>\n",
       "      <td>68.75</td>\n",
       "      <td>161.30</td>\n",
       "      <td>9.63</td>\n",
       "      <td>89</td>\n",
       "      <td>97</td>\n",
       "      <td>3.85</td>\n",
       "    </tr>\n",
       "    <tr>\n",
       "      <th>2</th>\n",
       "      <td>Phonhong</td>\n",
       "      <td>LA</td>\n",
       "      <td>1604177123</td>\n",
       "      <td>18.50</td>\n",
       "      <td>102.42</td>\n",
       "      <td>71.83</td>\n",
       "      <td>91</td>\n",
       "      <td>1</td>\n",
       "      <td>1.74</td>\n",
       "    </tr>\n",
       "    <tr>\n",
       "      <th>3</th>\n",
       "      <td>Arraial do Cabo</td>\n",
       "      <td>BR</td>\n",
       "      <td>1604176945</td>\n",
       "      <td>-22.97</td>\n",
       "      <td>-42.03</td>\n",
       "      <td>71.60</td>\n",
       "      <td>88</td>\n",
       "      <td>75</td>\n",
       "      <td>10.29</td>\n",
       "    </tr>\n",
       "    <tr>\n",
       "      <th>4</th>\n",
       "      <td>Farnes</td>\n",
       "      <td>NO</td>\n",
       "      <td>1604177123</td>\n",
       "      <td>61.32</td>\n",
       "      <td>7.80</td>\n",
       "      <td>35.73</td>\n",
       "      <td>84</td>\n",
       "      <td>89</td>\n",
       "      <td>8.97</td>\n",
       "    </tr>\n",
       "    <tr>\n",
       "      <th>...</th>\n",
       "      <td>...</td>\n",
       "      <td>...</td>\n",
       "      <td>...</td>\n",
       "      <td>...</td>\n",
       "      <td>...</td>\n",
       "      <td>...</td>\n",
       "      <td>...</td>\n",
       "      <td>...</td>\n",
       "      <td>...</td>\n",
       "    </tr>\n",
       "    <tr>\n",
       "      <th>68</th>\n",
       "      <td>Vila Velha</td>\n",
       "      <td>BR</td>\n",
       "      <td>1604176674</td>\n",
       "      <td>-20.33</td>\n",
       "      <td>-40.29</td>\n",
       "      <td>71.60</td>\n",
       "      <td>94</td>\n",
       "      <td>90</td>\n",
       "      <td>8.05</td>\n",
       "    </tr>\n",
       "    <tr>\n",
       "      <th>69</th>\n",
       "      <td>Manta</td>\n",
       "      <td>EC</td>\n",
       "      <td>1604177132</td>\n",
       "      <td>-0.95</td>\n",
       "      <td>-80.73</td>\n",
       "      <td>77.00</td>\n",
       "      <td>78</td>\n",
       "      <td>75</td>\n",
       "      <td>11.41</td>\n",
       "    </tr>\n",
       "    <tr>\n",
       "      <th>70</th>\n",
       "      <td>Hermanus</td>\n",
       "      <td>ZA</td>\n",
       "      <td>1604176937</td>\n",
       "      <td>-34.42</td>\n",
       "      <td>19.23</td>\n",
       "      <td>57.00</td>\n",
       "      <td>77</td>\n",
       "      <td>0</td>\n",
       "      <td>7.00</td>\n",
       "    </tr>\n",
       "    <tr>\n",
       "      <th>71</th>\n",
       "      <td>Mayo</td>\n",
       "      <td>US</td>\n",
       "      <td>1604177132</td>\n",
       "      <td>38.89</td>\n",
       "      <td>-76.51</td>\n",
       "      <td>48.99</td>\n",
       "      <td>61</td>\n",
       "      <td>90</td>\n",
       "      <td>4.70</td>\n",
       "    </tr>\n",
       "    <tr>\n",
       "      <th>72</th>\n",
       "      <td>Pascagoula</td>\n",
       "      <td>US</td>\n",
       "      <td>1604177132</td>\n",
       "      <td>30.37</td>\n",
       "      <td>-88.56</td>\n",
       "      <td>75.20</td>\n",
       "      <td>50</td>\n",
       "      <td>20</td>\n",
       "      <td>8.05</td>\n",
       "    </tr>\n",
       "  </tbody>\n",
       "</table>\n",
       "<p>73 rows × 9 columns</p>\n",
       "</div>"
      ],
      "text/plain": [
       "               City Country        Date    Lat     Lng  Max Temp  Humid  \\\n",
       "0      Ponta do Sol      PT  1604176941  32.67  -17.10     72.00     68   \n",
       "1          Cherskiy      RU  1604176694  68.75  161.30      9.63     89   \n",
       "2          Phonhong      LA  1604177123  18.50  102.42     71.83     91   \n",
       "3   Arraial do Cabo      BR  1604176945 -22.97  -42.03     71.60     88   \n",
       "4            Farnes      NO  1604177123  61.32    7.80     35.73     84   \n",
       "..              ...     ...         ...    ...     ...       ...    ...   \n",
       "68       Vila Velha      BR  1604176674 -20.33  -40.29     71.60     94   \n",
       "69            Manta      EC  1604177132  -0.95  -80.73     77.00     78   \n",
       "70         Hermanus      ZA  1604176937 -34.42   19.23     57.00     77   \n",
       "71             Mayo      US  1604177132  38.89  -76.51     48.99     61   \n",
       "72       Pascagoula      US  1604177132  30.37  -88.56     75.20     50   \n",
       "\n",
       "    Cloud  Wind Speed  \n",
       "0      20        8.05  \n",
       "1      97        3.85  \n",
       "2       1        1.74  \n",
       "3      75       10.29  \n",
       "4      89        8.97  \n",
       "..    ...         ...  \n",
       "68     90        8.05  \n",
       "69     75       11.41  \n",
       "70      0        7.00  \n",
       "71     90        4.70  \n",
       "72     20        8.05  \n",
       "\n",
       "[73 rows x 9 columns]"
      ]
     },
     "execution_count": 9,
     "metadata": {},
     "output_type": "execute_result"
    }
   ],
   "source": [
    "city_data_clean = weatherDF.drop(dirtyData, inplace=False)\n",
    "city_data_clean"
   ]
  },
  {
   "cell_type": "code",
   "execution_count": null,
   "metadata": {},
   "outputs": [],
   "source": [
    "\n"
   ]
  },
  {
   "cell_type": "markdown",
   "metadata": {},
   "source": [
    "## Plotting the Data\n",
    "* Use proper labeling of the plots using plot titles (including date of analysis) and axes labels.\n",
    "* Save the plotted figures as .pngs."
   ]
  },
  {
   "cell_type": "markdown",
   "metadata": {},
   "source": [
    "## Latitude vs. Temperature Plot"
   ]
  },
  {
   "cell_type": "code",
   "execution_count": 10,
   "metadata": {},
   "outputs": [],
   "source": [
    "lats = city_data_clean[\"Lat\"]\n",
    "MaxTemps = city_data_clean[\"Max Temp\"]\n",
    "Humidity = city_data_clean[\"Humid\"]\n",
    "Cloudiness = city_data_clean[\"Cloud\"]\n",
    "WindSpeed = city_data_clean[\"Wind Speed\"]"
   ]
  },
  {
   "cell_type": "code",
   "execution_count": 11,
   "metadata": {
    "scrolled": true
   },
   "outputs": [
    {
     "data": {
      "image/png": "[encoded data removed]",
      "text/plain": [
       "<Figure size 432x288 with 1 Axes>"
      ]
     },
     "metadata": {
      "needs_background": "light"
     },
     "output_type": "display_data"
    }
   ],
   "source": [
    "plt.scatter(lats, MaxTemps, edgecolor=\"black\", linewidths=1, marker=\"o\", alpha=0.8, label=\"Cities\")\n",
    "plt.title(\"City Latitude vs. Temperature\")\n",
    "plt.xlabel(\"Latitude\")\n",
    "plt.ylabel(\"Max Temperature (F)\")\n",
    "plt.grid(True)\n",
    "plt.savefig(\"../output_data/LatvsTemp.png\")\n",
    "plt.show()"
   ]
  },
  {
   "cell_type": "markdown",
   "metadata": {},
   "source": [
    "## Latitude vs. Humidity Plot"
   ]
  },
  {
   "cell_type": "code",
   "execution_count": 12,
   "metadata": {},
   "outputs": [
    {
     "data": {
      "image/png": "[encoded data removed]",
      "text/plain": [
       "<Figure size 432x288 with 1 Axes>"
      ]
     },
     "metadata": {
      "needs_background": "light"
     },
     "output_type": "display_data"
    }
   ],
   "source": [
    "plt.scatter(lats, Humidity, edgecolor=\"black\", linewidths=1, marker=\"o\", alpha=0.8, label=\"Cities\")\n",
    "plt.title(\"City Latitude vs. Humidity\")\n",
    "plt.xlabel(\"Latitude\")\n",
    "plt.ylabel(\"Humidity (%)\")\n",
    "plt.grid(True)\n",
    "plt.savefig(\"../output_data/LatvsHumid.png\")\n",
    "plt.show()"
   ]
  },
  {
   "cell_type": "code",
   "execution_count": null,
   "metadata": {},
   "outputs": [],
   "source": []
  },
  {
   "cell_type": "markdown",
   "metadata": {},
   "source": [
    "## Latitude vs. Cloudiness Plot"
   ]
  },
  {
   "cell_type": "code",
   "execution_count": 13,
   "metadata": {},
   "outputs": [
    {
     "data": {
      "image/png": "[encoded data removed]",
      "text/plain": [
       "<Figure size 432x288 with 1 Axes>"
      ]
     },
     "metadata": {
      "needs_background": "light"
     },
     "output_type": "display_data"
    }
   ],
   "source": [
    "plt.scatter(lats, Cloudiness, edgecolor=\"black\", linewidths=1, marker=\"o\", alpha=0.8, label=\"Cities\")\n",
    "plt.title(\"City Latitude vs. Cloudiness\")\n",
    "plt.xlabel(\"Latitude\")\n",
    "plt.ylabel(\"Cloudiness (%)\")\n",
    "plt.grid(True)\n",
    "plt.savefig(\"../output_data/LatvsCloud.png\")\n",
    "plt.show()"
   ]
  },
  {
   "cell_type": "code",
   "execution_count": null,
   "metadata": {},
   "outputs": [],
   "source": []
  },
  {
   "cell_type": "markdown",
   "metadata": {},
   "source": [
    "\n",
    "## Latitude vs. Wind Speed Plot"
   ]
  },
  {
   "cell_type": "code",
   "execution_count": 14,
   "metadata": {},
   "outputs": [
    {
     "data": {
      "image/png": "[encoded data removed]",
      "text/plain": [
       "<Figure size 432x288 with 1 Axes>"
      ]
     },
     "metadata": {
      "needs_background": "light"
     },
     "output_type": "display_data"
    }
   ],
   "source": [
    "plt.scatter(lats, WindSpeed, edgecolor=\"black\", linewidths=1, marker=\"o\", alpha=0.8, label=\"Cities\")\n",
    "plt.title(\"City Latitude vs. Wind Speed\")\n",
    "plt.xlabel(\"Latitude\")\n",
    "plt.ylabel(\"Wind Speed (MPH)\")\n",
    "plt.grid(True)\n",
    "plt.savefig(\"../output_data/LatvsWindSpeed.png\")\n",
    "plt.show()"
   ]
  },
  {
   "cell_type": "code",
   "execution_count": null,
   "metadata": {},
   "outputs": [],
   "source": []
  },
  {
   "cell_type": "markdown",
   "metadata": {},
   "source": [
    "## Linear Regression"
   ]
  },
  {
   "cell_type": "code",
   "execution_count": 15,
   "metadata": {},
   "outputs": [],
   "source": [
    "def plotLinearReg(x_axis, y_axis, coord, title, yLabel, path):\n",
    "    slope, intercept, r_value, p_value, std_err = linregress(x_axis, y_axis)\n",
    "    regressValues = intercept + slope*x_axis\n",
    "    lineEquation = \"y = \" + str(slope) + \"x + \" + str(intercept)\n",
    "    plt.scatter(x_axis, y_axis)\n",
    "    plt.plot(x_axis, regressValues, \"r-\")\n",
    "    plt.annotate(lineEquation, coord)\n",
    "    plt.title(title)\n",
    "    plt.xlabel(\"Latitude\")\n",
    "    plt.ylabel(yLabel)\n",
    "    plt.grid(True)\n",
    "    plt.savefig(path)\n",
    "    plt.show()\n",
    "#     print(\"This is a function\")\n",
    "\n",
    "northernHemisphere = city_data_clean.loc[city_data_clean[\"Lat\"]>=0]\n",
    "southernHemisphere = city_data_clean.loc[city_data_clean[\"Lat\"]<0]"
   ]
  },
  {
   "cell_type": "markdown",
   "metadata": {},
   "source": [
    "####  Northern Hemisphere - Max Temp vs. Latitude Linear Regression"
   ]
  },
  {
   "cell_type": "code",
   "execution_count": 16,
   "metadata": {},
   "outputs": [
    {
     "data": {
      "image/png": "[encoded data removed]",
      "text/plain": [
       "<Figure size 432x288 with 1 Axes>"
      ]
     },
     "metadata": {
      "needs_background": "light"
     },
     "output_type": "display_data"
    }
   ],
   "source": [
    "x_axis = round(northernHemisphere[\"Lat\"], 2)\n",
    "y_axis = round(northernHemisphere[\"Max Temp\"], 2)\n",
    "title = \"Northern Max Temp vs. Latitude Linear Regression\"\n",
    "coord = (5, 5)\n",
    "yLabel = \"Max Temp\"\n",
    "path = \"../output_data/TempvsLatLinNorth.png\"\n",
    "\n",
    "plotLinearReg(x_axis, y_axis, coord, title, yLabel, path)\n"
   ]
  },
  {
   "cell_type": "code",
   "execution_count": null,
   "metadata": {},
   "outputs": [],
   "source": []
  },
  {
   "cell_type": "markdown",
   "metadata": {},
   "source": [
    "####  Southern Hemisphere - Max Temp vs. Latitude Linear Regression"
   ]
  },
  {
   "cell_type": "code",
   "execution_count": 17,
   "metadata": {},
   "outputs": [
    {
     "data": {
      "image/png": "[encoded data removed]",
      "text/plain": [
       "<Figure size 432x288 with 1 Axes>"
      ]
     },
     "metadata": {
      "needs_background": "light"
     },
     "output_type": "display_data"
    }
   ],
   "source": [
    "x_axis = round(southernHemisphere[\"Lat\"], 2)\n",
    "y_axis = round(southernHemisphere[\"Max Temp\"], 2)\n",
    "title = \"Southern Max Temp vs. Latitude Linear Regression\"\n",
    "coord = (-55, 80)\n",
    "yLabel = \"Max Temp\"\n",
    "path = \"../output_data/TempvsLatLinSouth.png\"\n",
    "\n",
    "plotLinearReg(x_axis, y_axis, coord, title, yLabel, path)"
   ]
  },
  {
   "cell_type": "code",
   "execution_count": null,
   "metadata": {},
   "outputs": [],
   "source": []
  },
  {
   "cell_type": "markdown",
   "metadata": {},
   "source": [
    "####  Northern Hemisphere - Humidity (%) vs. Latitude Linear Regression"
   ]
  },
  {
   "cell_type": "code",
   "execution_count": 18,
   "metadata": {},
   "outputs": [],
   "source": [
    "def plotLinearReg(x_axis, y_axis, coord, title, yLabel, path):\n",
    "    slope, intercept, r_value, p_value, std_err = linregress(x_axis, y_axis)\n",
    "    regressValues = intercept + slope*x_axis\n",
    "    lineEquation = \"y = \" + str(slope) + \"x + \" + str(intercept)\n",
    "    plt.scatter(x_axis, y_axis)\n",
    "    plt.plot(x_axis, regressValues, \"r-\")\n",
    "    plt.annotate(lineEquation, coord)\n",
    "    plt.title(title)\n",
    "    plt.xlabel(\"Latitude\")\n",
    "    plt.ylabel(yLabel)\n",
    "    plt.grid(True)\n",
    "    plt.savefig(path)\n",
    "    plt.show()\n",
    "#     print(\"This is a function\")\n",
    "\n",
    "northernHemisphere = city_data_clean.loc[city_data_clean[\"Lat\"]>=0]\n",
    "southernHemisphere = city_data_clean.loc[city_data_clean[\"Lat\"]<0]"
   ]
  },
  {
   "cell_type": "code",
   "execution_count": 19,
   "metadata": {},
   "outputs": [
    {
     "data": {
      "image/png": "[encoded data removed]",
      "text/plain": [
       "<Figure size 432x288 with 1 Axes>"
      ]
     },
     "metadata": {
      "needs_background": "light"
     },
     "output_type": "display_data"
    }
   ],
   "source": [
    "x_axis = round(northernHemisphere[\"Lat\"], 2)\n",
    "y_axis = round(northernHemisphere[\"Humid\"], 2)\n",
    "title = \"Northern Humidity vs. Latitude Linear Regression\"\n",
    "coord = (40, 10)\n",
    "yLabel = \"Humdiity\"\n",
    "path = \"../output_data/HumidvsLatLinNorth.png\"\n",
    "\n",
    "plotLinearReg(x_axis, y_axis, coord, title, yLabel, path)"
   ]
  },
  {
   "cell_type": "code",
   "execution_count": null,
   "metadata": {},
   "outputs": [],
   "source": []
  },
  {
   "cell_type": "markdown",
   "metadata": {},
   "source": [
    "####  Southern Hemisphere - Humidity (%) vs. Latitude Linear Regression"
   ]
  },
  {
   "cell_type": "code",
   "execution_count": 20,
   "metadata": {},
   "outputs": [],
   "source": [
    "def plotLinearReg(x_axis, y_axis, coord, title, yLabel, path):\n",
    "    slope, intercept, r_value, p_value, std_err = linregress(x_axis, y_axis)\n",
    "    regressValues = intercept + slope*x_axis\n",
    "    lineEquation = \"y = \" + str(slope) + \"x + \" + str(intercept)\n",
    "    plt.scatter(x_axis, y_axis)\n",
    "    plt.plot(x_axis, regressValues, \"r-\")\n",
    "    plt.annotate(lineEquation, coord)\n",
    "    plt.title(title)\n",
    "    plt.xlabel(\"Latitude\")\n",
    "    plt.ylabel(yLabel)\n",
    "    plt.grid(True)\n",
    "    plt.savefig(path)\n",
    "    plt.show()\n",
    "#     print(\"This is a function\")\n",
    "\n",
    "northernHemisphere = city_data_clean.loc[city_data_clean[\"Lat\"]>=0]\n",
    "southernHemisphere = city_data_clean.loc[city_data_clean[\"Lat\"]<0]"
   ]
  },
  {
   "cell_type": "code",
   "execution_count": 21,
   "metadata": {},
   "outputs": [
    {
     "data": {
      "image/png": "[encoded data removed]",
      "text/plain": [
       "<Figure size 432x288 with 1 Axes>"
      ]
     },
     "metadata": {
      "needs_background": "light"
     },
     "output_type": "display_data"
    }
   ],
   "source": [
    "x_axis = round(southernHemisphere[\"Lat\"], 2)\n",
    "y_axis = round(southernHemisphere[\"Humid\"], 2)\n",
    "title = \"Southern Humidity vs. Latitude Linear Regression\"\n",
    "coord = (-50, 20)\n",
    "yLabel = \"Humditity\"\n",
    "path = \"../output_data/HumidvsLatLinSouth.png\"\n",
    "\n",
    "plotLinearReg(x_axis, y_axis, coord, title, yLabel, path)"
   ]
  },
  {
   "cell_type": "code",
   "execution_count": null,
   "metadata": {},
   "outputs": [],
   "source": []
  },
  {
   "cell_type": "markdown",
   "metadata": {},
   "source": [
    "####  Northern Hemisphere - Cloudiness (%) vs. Latitude Linear Regression"
   ]
  },
  {
   "cell_type": "code",
   "execution_count": 22,
   "metadata": {},
   "outputs": [],
   "source": [
    "def plotLinearReg(x_axis, y_axis, coord, title, yLabel, path):\n",
    "    slope, intercept, r_value, p_value, std_err = linregress(x_axis, y_axis)\n",
    "    regressValues = intercept + slope*x_axis\n",
    "    lineEquation = \"y = \" + str(slope) + \"x + \" + str(intercept)\n",
    "    plt.scatter(x_axis, y_axis)\n",
    "    plt.plot(x_axis, regressValues, \"r-\")\n",
    "    plt.annotate(lineEquation, coord)\n",
    "    plt.title(title)\n",
    "    plt.xlabel(\"Latitude\")\n",
    "    plt.ylabel(yLabel)\n",
    "    plt.grid(True)\n",
    "    plt.savefig(path)\n",
    "    plt.show()\n",
    "#     print(\"This is a function\")\n",
    "\n",
    "northernHemisphere = city_data_clean.loc[city_data_clean[\"Lat\"]>=0]\n",
    "southernHemisphere = city_data_clean.loc[city_data_clean[\"Lat\"]<0]"
   ]
  },
  {
   "cell_type": "code",
   "execution_count": 23,
   "metadata": {},
   "outputs": [
    {
     "data": {
      "image/png": "[encoded data removed]",
      "text/plain": [
       "<Figure size 432x288 with 1 Axes>"
      ]
     },
     "metadata": {
      "needs_background": "light"
     },
     "output_type": "display_data"
    }
   ],
   "source": [
    "x_axis = round(northernHemisphere[\"Lat\"], 2)\n",
    "y_axis = round(northernHemisphere[\"Cloud\"], 2)\n",
    "title = \"Northern Cloudiness vs. Latitude Linear Regression\"\n",
    "coord = (-45, 10)\n",
    "yLabel = \"Cloudiness\"\n",
    "path = \"../output_data/CloudvsLatLinNort.png\"\n",
    "\n",
    "plotLinearReg(x_axis, y_axis, coord, title, yLabel, path)"
   ]
  },
  {
   "cell_type": "code",
   "execution_count": null,
   "metadata": {},
   "outputs": [],
   "source": []
  },
  {
   "cell_type": "markdown",
   "metadata": {},
   "source": [
    "####  Southern Hemisphere - Cloudiness (%) vs. Latitude Linear Regression"
   ]
  },
  {
   "cell_type": "code",
   "execution_count": 24,
   "metadata": {},
   "outputs": [],
   "source": [
    "def plotLinearReg(x_axis, y_axis, coord, title, yLabel, path):\n",
    "    slope, intercept, r_value, p_value, std_err = linregress(x_axis, y_axis)\n",
    "    regressValues = intercept + slope*x_axis\n",
    "    lineEquation = \"y = \" + str(slope) + \"x + \" + str(intercept)\n",
    "    plt.scatter(x_axis, y_axis)\n",
    "    plt.plot(x_axis, regressValues, \"r-\")\n",
    "    plt.annotate(lineEquation, coord)\n",
    "    plt.title(title)\n",
    "    plt.xlabel(\"Latitude\")\n",
    "    plt.ylabel(yLabel)\n",
    "    plt.grid(True)\n",
    "    plt.savefig(path)\n",
    "    plt.show()\n",
    "#     print(\"This is a function\")\n",
    "\n",
    "northernHemisphere = city_data_clean.loc[city_data_clean[\"Lat\"]>=0]\n",
    "southernHemisphere = city_data_clean.loc[city_data_clean[\"Lat\"]<0]"
   ]
  },
  {
   "cell_type": "code",
   "execution_count": 25,
   "metadata": {},
   "outputs": [
    {
     "data": {
      "image/png": "[encoded data removed]",
      "text/plain": [
       "<Figure size 432x288 with 1 Axes>"
      ]
     },
     "metadata": {
      "needs_background": "light"
     },
     "output_type": "display_data"
    }
   ],
   "source": [
    "x_axis = round(southernHemisphere[\"Lat\"], 2)\n",
    "y_axis = round(southernHemisphere[\"Cloud\"], 2)\n",
    "title = \"Southern Cloudiness vs. Latitude Linear Regression\"\n",
    "coord = (-45, 10)\n",
    "yLabel = \"Cloudiness\"\n",
    "path = \"../output_data/CloudvsLatLinSouth.png\"\n",
    "\n",
    "plotLinearReg(x_axis, y_axis, coord, title, yLabel, path)"
   ]
  },
  {
   "cell_type": "code",
   "execution_count": null,
   "metadata": {},
   "outputs": [],
   "source": []
  },
  {
   "cell_type": "markdown",
   "metadata": {},
   "source": [
    "####  Northern Hemisphere - Wind Speed (mph) vs. Latitude Linear Regression"
   ]
  },
  {
   "cell_type": "code",
   "execution_count": 26,
   "metadata": {},
   "outputs": [],
   "source": [
    "def plotLinearReg(x_axis, y_axis, coord, title, yLabel, path):\n",
    "    slope, intercept, r_value, p_value, std_err = linregress(x_axis, y_axis)\n",
    "    regressValues = intercept + slope*x_axis\n",
    "    lineEquation = \"y = \" + str(slope) + \"x + \" + str(intercept)\n",
    "    plt.scatter(x_axis, y_axis)\n",
    "    plt.plot(x_axis, regressValues, \"r-\")\n",
    "    plt.annotate(lineEquation, coord)\n",
    "    plt.title(title)\n",
    "    plt.xlabel(\"Latitude\")\n",
    "    plt.ylabel(yLabel)\n",
    "    plt.grid(True)\n",
    "    plt.savefig(path)\n",
    "    plt.show()\n",
    "#     print(\"This is a function\")\n",
    "\n",
    "northernHemisphere = city_data_clean.loc[city_data_clean[\"Lat\"]>=0]\n",
    "southernHemisphere = city_data_clean.loc[city_data_clean[\"Lat\"]<0]"
   ]
  },
  {
   "cell_type": "code",
   "execution_count": 27,
   "metadata": {},
   "outputs": [
    {
     "data": {
      "image/png": "[encoded data removed]",
      "text/plain": [
       "<Figure size 432x288 with 1 Axes>"
      ]
     },
     "metadata": {
      "needs_background": "light"
     },
     "output_type": "display_data"
    }
   ],
   "source": [
    "x_axis = round(northernHemisphere[\"Lat\"], 2)\n",
    "y_axis = round(northernHemisphere[\"Wind Speed\"], 2)\n",
    "title = \"Northern Wind Speed vs. Latitude Linear Regression\"\n",
    "coord = (40, 25)\n",
    "yLabel = \"Wind Speed\"\n",
    "path = \"../output_data/WindvsLatLinNorth.png\"\n",
    "\n",
    "plotLinearReg(x_axis, y_axis, coord, title, yLabel, path)"
   ]
  },
  {
   "cell_type": "code",
   "execution_count": null,
   "metadata": {},
   "outputs": [],
   "source": []
  },
  {
   "cell_type": "markdown",
   "metadata": {},
   "source": [
    "####  Southern Hemisphere - Wind Speed (mph) vs. Latitude Linear Regression"
   ]
  },
  {
   "cell_type": "code",
   "execution_count": 28,
   "metadata": {},
   "outputs": [],
   "source": [
    "def plotLinearReg(x_axis, y_axis, coord, title, yLabel, path):\n",
    "    slope, intercept, r_value, p_value, std_err = linregress(x_axis, y_axis)\n",
    "    regressValues = intercept + slope*x_axis\n",
    "    lineEquation = \"y = \" + str(slope) + \"x + \" + str(intercept)\n",
    "    plt.scatter(x_axis, y_axis)\n",
    "    plt.plot(x_axis, regressValues, \"r-\")\n",
    "    plt.annotate(lineEquation, coord)\n",
    "    plt.title(title)\n",
    "    plt.xlabel(\"Latitude\")\n",
    "    plt.ylabel(yLabel)\n",
    "    plt.grid(True)\n",
    "    plt.savefig(path)\n",
    "    plt.show()\n",
    "#     print(\"This is a function\")\n",
    "\n",
    "northernHemisphere = city_data_clean.loc[city_data_clean[\"Lat\"]>=0]\n",
    "southernHemisphere = city_data_clean.loc[city_data_clean[\"Lat\"]<0]"
   ]
  },
  {
   "cell_type": "code",
   "execution_count": 29,
   "metadata": {},
   "outputs": [
    {
     "data": {
      "image/png": "[encoded data removed]",
      "text/plain": [
       "<Figure size 432x288 with 1 Axes>"
      ]
     },
     "metadata": {
      "needs_background": "light"
     },
     "output_type": "display_data"
    }
   ],
   "source": [
    "x_axis = round(southernHemisphere[\"Lat\"], 2)\n",
    "y_axis = round(southernHemisphere[\"Wind Speed\"], 2)\n",
    "title = \"Southern Wind Speed vs. Latitude Linear Regression\"\n",
    "coord = (-50, 20)\n",
    "yLabel = \"Wind Speed\"\n",
    "path = \"../output_data/WindvsLatLinSouth.png\"\n",
    "\n",
    "plotLinearReg(x_axis, y_axis, coord, title, yLabel, path)"
   ]
  },
  {
   "cell_type": "code",
   "execution_count": null,
   "metadata": {},
   "outputs": [],
   "source": []
  },
  {
   "cell_type": "code",
   "execution_count": null,
   "metadata": {},
   "outputs": [],
   "source": []
  }
 ],
 "metadata": {
  "anaconda-cloud": {},
  "kernel_info": {
   "name": "python3"
  },
  "kernelspec": {
   "display_name": "Python 3",
   "language": "python",
   "name": "python3"
  },
  "language_info": {
   "codemirror_mode": {
    "name": "ipython",
    "version": 3
   },
   "file_extension": ".py",
   "mimetype": "text/x-python",
   "name": "python",
   "nbconvert_exporter": "python",
   "pygments_lexer": "ipython3",
   "version": "3.8.3"
  },
  "latex_envs": {
   "LaTeX_envs_menu_present": true,
   "autoclose": false,
   "autocomplete": true,
   "bibliofile": "biblio.bib",
   "cite_by": "apalike",
   "current_citInitial": 1,
   "eqLabelWithNumbers": true,
   "eqNumInitial": 1,
   "hotkeys": {
    "equation": "Ctrl-E",
    "itemize": "Ctrl-I"
   },
   "labels_anchors": false,
   "latex_user_defs": false,
   "report_style_numbering": false,
   "user_envs_cfg": false
  },
  "nteract": {
   "version": "0.12.3"
  }
 },
 "nbformat": 4,
 "nbformat_minor": 2
}
